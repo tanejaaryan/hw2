{
  "cells": [
    {
      "cell_type": "markdown",
      "id": "bbe70a96",
      "metadata": {
        "id": "bbe70a96"
      },
      "source": [
        "## Interval Analysis"
      ]
    },
    {
      "cell_type": "code",
      "source": [
        "!pip install tensorboardX\n"
      ],
      "metadata": {
        "colab": {
          "base_uri": "https://localhost:8080/"
        },
        "id": "LfkqbWjaZfYe",
        "outputId": "077a672d-9579-4dfc-fe07-5a6029ae2245"
      },
      "id": "LfkqbWjaZfYe",
      "execution_count": 21,
      "outputs": [
        {
          "output_type": "stream",
          "name": "stdout",
          "text": [
            "Requirement already satisfied: tensorboardX in /usr/local/lib/python3.12/dist-packages (2.6.4)\n",
            "Requirement already satisfied: numpy in /usr/local/lib/python3.12/dist-packages (from tensorboardX) (2.0.2)\n",
            "Requirement already satisfied: packaging in /usr/local/lib/python3.12/dist-packages (from tensorboardX) (25.0)\n",
            "Requirement already satisfied: protobuf>=3.20 in /usr/local/lib/python3.12/dist-packages (from tensorboardX) (5.29.5)\n"
          ]
        }
      ]
    },
    {
      "cell_type": "code",
      "execution_count": 29,
      "id": "6bbda12e",
      "metadata": {
        "colab": {
          "base_uri": "https://localhost:8080/"
        },
        "id": "6bbda12e",
        "outputId": "476ffa67-494b-4749-b235-1967cec5d3f5"
      },
      "outputs": [
        {
          "output_type": "stream",
          "name": "stdout",
          "text": [
            "Sequential(\n",
            "  (0): Normalize()\n",
            "  (1): Net(\n",
            "    (fc): Linear(in_features=784, out_features=200, bias=True)\n",
            "    (fc2): Linear(in_features=200, out_features=10, bias=True)\n",
            "  )\n",
            ")\n"
          ]
        }
      ],
      "source": [
        "# !pip install tensorboardX\n",
        "\n",
        "import torch\n",
        "import torch.nn as nn\n",
        "import torch.optim as optim\n",
        "import torch.nn.functional as F\n",
        "import numpy as np\n",
        "import time\n",
        "import matplotlib.pyplot as plt\n",
        "\n",
        "from torchvision import datasets, transforms\n",
        "# from tensorboardX import SummaryWriter\n",
        "\n",
        "use_cuda = True\n",
        "device = torch.device(\"cuda\" if torch.cuda.is_available() else \"cpu\")\n",
        "batch_size = 64\n",
        "\n",
        "np.random.seed(42)\n",
        "torch.manual_seed(42)\n",
        "\n",
        "\n",
        "## Dataloaders\n",
        "train_dataset = datasets.MNIST('mnist_data/', train=True, download=True, transform=transforms.Compose(\n",
        "    [transforms.ToTensor()]\n",
        "))\n",
        "test_dataset = datasets.MNIST('mnist_data/', train=False, download=True, transform=transforms.Compose(\n",
        "    [transforms.ToTensor()]\n",
        "))\n",
        "\n",
        "train_loader = torch.utils.data.DataLoader(train_dataset, batch_size=batch_size, shuffle=True)\n",
        "test_loader = torch.utils.data.DataLoader(test_dataset, batch_size=batch_size, shuffle=False)\n",
        "\n",
        "## Simple NN. You can change this if you want. If you change it, mention the architectural details in your report.\n",
        "class Net(nn.Module):\n",
        "    def __init__(self):\n",
        "        super(Net, self).__init__()\n",
        "        self.fc = nn.Linear(28*28, 200)\n",
        "        self.fc2 = nn.Linear(200,10)\n",
        "\n",
        "    def forward(self, x):\n",
        "        x = x.view((-1, 28*28))\n",
        "        x = F.relu(self.fc(x))\n",
        "        x = self.fc2(x)\n",
        "        x = F.softmax(x, dim=-1) # added softmax for probabilities\n",
        "        return x\n",
        "\n",
        "\n",
        "class Normalize(nn.Module):\n",
        "    def forward(self, x):\n",
        "        return (x - 0.1307)/0.3081\n",
        "\n",
        "# Add the data normalization as a first \"layer\" to the network\n",
        "# this allows us to search for adverserial examples to the real image, rather than\n",
        "# to the normalized image\n",
        "model = nn.Sequential(Normalize(), Net())\n",
        "\n",
        "model = model.to(device)\n",
        "model.train()\n",
        "print(model)\n"
      ]
    },
    {
      "cell_type": "code",
      "execution_count": 30,
      "id": "0a6282f7",
      "metadata": {
        "id": "0a6282f7"
      },
      "outputs": [],
      "source": [
        "def train_model(model, num_epochs):\n",
        "    criterion = nn.CrossEntropyLoss()\n",
        "    optimizer = optim.SGD(model.parameters(), lr=0.001, momentum=0.9)\n",
        "\n",
        "    for epoch in range(num_epochs):\n",
        "        model.train()\n",
        "        running_loss = 0.0\n",
        "        for i, data in enumerate(train_loader, 0):\n",
        "            images, labels = data\n",
        "            images, labels = images.to(device), labels.to(device)\n",
        "\n",
        "            optimizer.zero_grad()\n",
        "            outputs = model(images)\n",
        "            loss = criterion(outputs, labels)\n",
        "            loss.backward()\n",
        "            optimizer.step()\n",
        "\n",
        "            running_loss += loss.item()\n",
        "\n",
        "        print(f'Epoch {epoch+1}/{num_epochs}, Loss: {running_loss/len(train_loader):.3f}')\n",
        "\n",
        "def test_model(model):\n",
        "    model.eval()\n",
        "    with torch.no_grad():\n",
        "        correct = 0\n",
        "        total = 0\n",
        "        for data in test_loader:\n",
        "            images, labels = data\n",
        "            images, labels = images.to(device), labels.to(device)\n",
        "            outputs = model(images)\n",
        "            _, predicted = torch.max(outputs.data, 1)\n",
        "            total += labels.size(0)\n",
        "            correct += (predicted == labels).sum().item()\n",
        "        print(f'Accuracy on images: {100 * correct / total}')"
      ]
    },
    {
      "cell_type": "code",
      "execution_count": 31,
      "id": "72dd8bd6",
      "metadata": {
        "colab": {
          "base_uri": "https://localhost:8080/"
        },
        "id": "72dd8bd6",
        "outputId": "3499e48f-ad4c-4e76-87e6-37e2d4333917"
      },
      "outputs": [
        {
          "output_type": "stream",
          "name": "stdout",
          "text": [
            "Epoch 1/15, Loss: 2.012\n",
            "Epoch 2/15, Loss: 1.729\n",
            "Epoch 3/15, Loss: 1.627\n",
            "Epoch 4/15, Loss: 1.596\n",
            "Epoch 5/15, Loss: 1.582\n",
            "Epoch 6/15, Loss: 1.572\n",
            "Epoch 7/15, Loss: 1.566\n",
            "Epoch 8/15, Loss: 1.561\n",
            "Epoch 9/15, Loss: 1.557\n",
            "Epoch 10/15, Loss: 1.553\n",
            "Epoch 11/15, Loss: 1.550\n",
            "Epoch 12/15, Loss: 1.547\n",
            "Epoch 13/15, Loss: 1.545\n",
            "Epoch 14/15, Loss: 1.542\n",
            "Epoch 15/15, Loss: 1.540\n",
            "Accuracy on images: 93.43\n"
          ]
        }
      ],
      "source": [
        "train_model(model, 15)\n",
        "test_model(model)"
      ]
    },
    {
      "cell_type": "markdown",
      "id": "c7c23f92",
      "metadata": {
        "id": "c7c23f92"
      },
      "source": [
        "### Write the interval analysis for the simple model"
      ]
    },
    {
      "cell_type": "code",
      "execution_count": 14,
      "id": "d97f7f25",
      "metadata": {
        "id": "d97f7f25"
      },
      "outputs": [],
      "source": [
        "## TODO: Write the interval analysis for the simple model\n",
        "## you can use https://github.com/Zinoex/bound_propagation"
      ]
    },
    {
      "cell_type": "code",
      "source": [
        "!pip install bound-propagation"
      ],
      "metadata": {
        "colab": {
          "base_uri": "https://localhost:8080/"
        },
        "id": "tpk30Q8RXTOk",
        "outputId": "80e5d60d-213a-4461-f61d-003c6755aa52"
      },
      "id": "tpk30Q8RXTOk",
      "execution_count": 25,
      "outputs": [
        {
          "output_type": "stream",
          "name": "stdout",
          "text": [
            "Requirement already satisfied: bound-propagation in /usr/local/lib/python3.12/dist-packages (0.4.6)\n",
            "Requirement already satisfied: torch in /usr/local/lib/python3.12/dist-packages (from bound-propagation) (2.8.0+cu126)\n",
            "Requirement already satisfied: numpy in /usr/local/lib/python3.12/dist-packages (from bound-propagation) (2.0.2)\n",
            "Requirement already satisfied: filelock in /usr/local/lib/python3.12/dist-packages (from torch->bound-propagation) (3.19.1)\n",
            "Requirement already satisfied: typing-extensions>=4.10.0 in /usr/local/lib/python3.12/dist-packages (from torch->bound-propagation) (4.15.0)\n",
            "Requirement already satisfied: setuptools in /usr/local/lib/python3.12/dist-packages (from torch->bound-propagation) (75.2.0)\n",
            "Requirement already satisfied: sympy>=1.13.3 in /usr/local/lib/python3.12/dist-packages (from torch->bound-propagation) (1.13.3)\n",
            "Requirement already satisfied: networkx in /usr/local/lib/python3.12/dist-packages (from torch->bound-propagation) (3.5)\n",
            "Requirement already satisfied: jinja2 in /usr/local/lib/python3.12/dist-packages (from torch->bound-propagation) (3.1.6)\n",
            "Requirement already satisfied: fsspec in /usr/local/lib/python3.12/dist-packages (from torch->bound-propagation) (2025.3.0)\n",
            "Requirement already satisfied: nvidia-cuda-nvrtc-cu12==12.6.77 in /usr/local/lib/python3.12/dist-packages (from torch->bound-propagation) (12.6.77)\n",
            "Requirement already satisfied: nvidia-cuda-runtime-cu12==12.6.77 in /usr/local/lib/python3.12/dist-packages (from torch->bound-propagation) (12.6.77)\n",
            "Requirement already satisfied: nvidia-cuda-cupti-cu12==12.6.80 in /usr/local/lib/python3.12/dist-packages (from torch->bound-propagation) (12.6.80)\n",
            "Requirement already satisfied: nvidia-cudnn-cu12==9.10.2.21 in /usr/local/lib/python3.12/dist-packages (from torch->bound-propagation) (9.10.2.21)\n",
            "Requirement already satisfied: nvidia-cublas-cu12==12.6.4.1 in /usr/local/lib/python3.12/dist-packages (from torch->bound-propagation) (12.6.4.1)\n",
            "Requirement already satisfied: nvidia-cufft-cu12==11.3.0.4 in /usr/local/lib/python3.12/dist-packages (from torch->bound-propagation) (11.3.0.4)\n",
            "Requirement already satisfied: nvidia-curand-cu12==10.3.7.77 in /usr/local/lib/python3.12/dist-packages (from torch->bound-propagation) (10.3.7.77)\n",
            "Requirement already satisfied: nvidia-cusolver-cu12==11.7.1.2 in /usr/local/lib/python3.12/dist-packages (from torch->bound-propagation) (11.7.1.2)\n",
            "Requirement already satisfied: nvidia-cusparse-cu12==12.5.4.2 in /usr/local/lib/python3.12/dist-packages (from torch->bound-propagation) (12.5.4.2)\n",
            "Requirement already satisfied: nvidia-cusparselt-cu12==0.7.1 in /usr/local/lib/python3.12/dist-packages (from torch->bound-propagation) (0.7.1)\n",
            "Requirement already satisfied: nvidia-nccl-cu12==2.27.3 in /usr/local/lib/python3.12/dist-packages (from torch->bound-propagation) (2.27.3)\n",
            "Requirement already satisfied: nvidia-nvtx-cu12==12.6.77 in /usr/local/lib/python3.12/dist-packages (from torch->bound-propagation) (12.6.77)\n",
            "Requirement already satisfied: nvidia-nvjitlink-cu12==12.6.85 in /usr/local/lib/python3.12/dist-packages (from torch->bound-propagation) (12.6.85)\n",
            "Requirement already satisfied: nvidia-cufile-cu12==1.11.1.6 in /usr/local/lib/python3.12/dist-packages (from torch->bound-propagation) (1.11.1.6)\n",
            "Requirement already satisfied: triton==3.4.0 in /usr/local/lib/python3.12/dist-packages (from torch->bound-propagation) (3.4.0)\n",
            "Requirement already satisfied: mpmath<1.4,>=1.1.0 in /usr/local/lib/python3.12/dist-packages (from sympy>=1.13.3->torch->bound-propagation) (1.3.0)\n",
            "Requirement already satisfied: MarkupSafe>=2.0 in /usr/local/lib/python3.12/dist-packages (from jinja2->torch->bound-propagation) (3.0.3)\n"
          ]
        }
      ]
    },
    {
      "cell_type": "code",
      "source": [
        "# interval verification for a trained MNIST model\n",
        "import torch\n",
        "import torch.nn as nn\n",
        "import torch.nn.functional as F\n",
        "import numpy as np\n",
        "import matplotlib.pyplot as plt\n",
        "\n",
        "# assume: model = nn.Sequential(Normalize(), Net()) already trained for 15 epochs\n",
        "dev = next(model.parameters()).device\n",
        "MEAN, STD = 0.1307, 0.3081\n",
        "\n",
        "class SimpleNet(nn.Module):\n",
        "    def __init__(self):\n",
        "        super().__init__()\n",
        "        self.fc = nn.Linear(28*28, 200)\n",
        "        self.fc2 = nn.Linear(200, 10)\n",
        "    def forward(self, x):\n",
        "        x = x.flatten(1)\n",
        "        x = F.relu(self.fc(x))\n",
        "        x = self.fcs(x)\n",
        "        x = F.softmax(x, dim=-1)\n",
        "        return x\n",
        "\n",
        "# x = F.softmax(x, dim=-1)\n",
        "# copy weights from the trained classifier body (assumes model = [Normalize(), Net()])\n",
        "probe = SimpleNet().to(dev).eval()\n",
        "with torch.no_grad():\n",
        "    probe.fc.weight.copy_( model[1].fc.weight )\n",
        "    probe.fc.bias.copy_( model[1].fc.bias )\n",
        "    probe.fc2.weight.copy_(model[1].fc2.weight)\n",
        "    probe.fc2.bias.copy_(model[1].fc2.bias)\n",
        "\n",
        "@torch.inference_mode()\n",
        "def affine_box(W, b, lo, hi):\n",
        "    # For z = Wx + b with x ∈ [lo, hi],\n",
        "    # split W = W⁺ + W⁻ where W⁺ = max(W, 0), W⁻ = min(W, 0)\n",
        "    # Lower:  L = W⁺·lo + W⁻·hi + b\n",
        "    # Upper:  U = W⁺·hi + W⁻·lo + b\n",
        "    Wpos = torch.clamp(W, min=0)\n",
        "    Wneg = torch.clamp(W, max=0)\n",
        "    L = F.linear(lo, Wpos) + F.linear(hi, Wneg, b)\n",
        "    U = F.linear(hi, Wpos) + F.linear(lo, Wneg, b)\n",
        "    return L, U\n",
        "\n",
        "@torch.inference_mode()\n",
        "def bound_ibp(net, x, eps):\n",
        "    B = x.size(0)\n",
        "    # L∞ ball in pixel space with clipping: [x−ε, x+ε] ∩ [0,1]\n",
        "    lo = torch.clamp(x - eps, 0.0, 1.0)\n",
        "    hi = torch.clamp(x + eps, 0.0, 1.0)\n",
        "\n",
        "    # apply training normalization: x̂ = (x−μ)/σ  (interval-wise)\n",
        "    lo = (lo - MEAN) / STD\n",
        "    hi = (hi - MEAN) / STD\n",
        "    lo = lo.view(B, -1); hi = hi.view(B, -1)\n",
        "\n",
        "    # affine layer 1 bounds\n",
        "    w1, b1 = net.fc.weight, net.fc.bias\n",
        "    lo, hi = affine_box(w1, b1, lo, hi)\n",
        "\n",
        "    # ReLU interval: ReLU([L, U]) = [max(L, 0), max(U, 0)]\n",
        "    lo = F.relu(lo)\n",
        "    hi = F.relu(hi)\n",
        "\n",
        "    # affine layer 2 bounds (logits)\n",
        "    w2, b2 = net.fc2.weight, net.fc2.bias\n",
        "    lo, hi = affine_box(w2, b2, lo, hi)\n",
        "    return lo, hi\n",
        "\n",
        "@torch.inference_mode()\n",
        "def cert_mask(lo, hi, y):\n",
        "    # Robust if:  L_y  >  max_{k≠y} U_k\n",
        "    idx = torch.arange(y.size(0), device=y.device)\n",
        "    Ly = lo[idx, y]\n",
        "    mask_true = F.one_hot(y, hi.size(1)).bool()\n",
        "    U_noty = hi.masked_fill(mask_true, float('-inf'))\n",
        "    Umax = U_noty.max(1).values\n",
        "    return Ly > Umax\n",
        "\n",
        "@torch.inference_mode()\n",
        "def sweep_verified_acc(net, loader, eps_values, restrict_to_clean=False):\n",
        "    out = []\n",
        "    model.eval()\n",
        "    for e in eps_values:\n",
        "        ok, tot = 0, 0\n",
        "        for xb, yb in loader:\n",
        "            xb, yb = xb.to(dev), yb.to(dev)\n",
        "\n",
        "            if restrict_to_clean:\n",
        "                # clean correctness filter (denominator becomes #clean-correct)\n",
        "                pred = model(xb).argmax(1)  # softmax is allowed; argmax unchanged\n",
        "                keep = pred == yb\n",
        "                if keep.sum() == 0:\n",
        "                    continue\n",
        "                xb, yb = xb[keep], yb[keep]\n",
        "\n",
        "            if xb.numel() == 0:\n",
        "                continue\n",
        "\n",
        "            lo, hi = bound_ibp(net, xb, float(e))\n",
        "            good = cert_mask(lo, hi, yb)\n",
        "            ok += int(good.sum().item())\n",
        "            tot += xb.size(0) if restrict_to_clean else yb.size(0)\n",
        "\n",
        "        acc = 100.0 * ok / tot if tot > 0 else 0.0\n",
        "        print(f\"ε={e:.3f} -> {ok}/{tot} = {acc:.2f}% verified\")\n",
        "        out.append(acc)\n",
        "    return out\n",
        "\n",
        "# 10 ε values linearly spaced in [0.01, 0.10], denominator = whole test set (as spec says)\n",
        "eps_vals = torch.linspace(0.01, 0.10, steps=10).tolist()\n",
        "curve = sweep_verified_acc(probe, test_loader, eps_vals, restrict_to_clean=False)\n",
        "\n",
        "plt.figure(figsize=(6,4))\n",
        "plt.plot(eps_vals, curve, marker='o')\n",
        "plt.xlabel(r\"$\\ell_\\infty$ radius $\\epsilon$\")\n",
        "plt.ylabel(\"Verified accuracy (%)\")\n",
        "plt.title(\"MNIST IBP verified accuracy\")\n",
        "plt.grid(True)\n",
        "plt.show()\n",
        "\n",
        "for e, a in zip(eps_vals, curve):\n",
        "    print(f\"epsilon={e:.3f}  verified_acc={a:.2f}%\")\n"
      ],
      "metadata": {
        "colab": {
          "base_uri": "https://localhost:8080/",
          "height": 768
        },
        "id": "vFpJLbnBXhIl",
        "outputId": "25c0cbb3-be4f-4242-8ad1-e760f087a86e"
      },
      "id": "vFpJLbnBXhIl",
      "execution_count": 43,
      "outputs": [
        {
          "output_type": "stream",
          "name": "stdout",
          "text": [
            "ε=0.010 -> 4959/10000 = 49.59% verified\n",
            "ε=0.020 -> 530/10000 = 5.30% verified\n",
            "ε=0.030 -> 20/10000 = 0.20% verified\n",
            "ε=0.040 -> 0/10000 = 0.00% verified\n",
            "ε=0.050 -> 0/10000 = 0.00% verified\n",
            "ε=0.060 -> 0/10000 = 0.00% verified\n",
            "ε=0.070 -> 0/10000 = 0.00% verified\n",
            "ε=0.080 -> 0/10000 = 0.00% verified\n",
            "ε=0.090 -> 0/10000 = 0.00% verified\n",
            "ε=0.100 -> 0/10000 = 0.00% verified\n"
          ]
        },
        {
          "output_type": "display_data",
          "data": {
            "text/plain": [
              "<Figure size 600x400 with 1 Axes>"
            ],
            "image/png": "[encoded data removed]"
          },
          "metadata": {}
        },
        {
          "output_type": "stream",
          "name": "stdout",
          "text": [
            "epsilon=0.010  verified_acc=49.59%\n",
            "epsilon=0.020  verified_acc=5.30%\n",
            "epsilon=0.030  verified_acc=0.20%\n",
            "epsilon=0.040  verified_acc=0.00%\n",
            "epsilon=0.050  verified_acc=0.00%\n",
            "epsilon=0.060  verified_acc=0.00%\n",
            "epsilon=0.070  verified_acc=0.00%\n",
            "epsilon=0.080  verified_acc=0.00%\n",
            "epsilon=0.090  verified_acc=0.00%\n",
            "epsilon=0.100  verified_acc=0.00%\n"
          ]
        }
      ]
    },
    {
      "cell_type": "code",
      "source": [],
      "metadata": {
        "id": "ebugeu1ukJmQ"
      },
      "id": "ebugeu1ukJmQ",
      "execution_count": null,
      "outputs": []
    }
  ],
  "metadata": {
    "kernelspec": {
      "display_name": "Python 3",
      "name": "python3"
    },
    "language_info": {
      "codemirror_mode": {
        "name": "ipython",
        "version": 3
      },
      "file_extension": ".py",
      "mimetype": "text/x-python",
      "name": "python",
      "nbconvert_exporter": "python",
      "pygments_lexer": "ipython3",
      "version": "3.10.18"
    },
    "colab": {
      "provenance": [],
      "gpuType": "T4"
    },
    "accelerator": "GPU"
  },
  "nbformat": 4,
  "nbformat_minor": 5
}